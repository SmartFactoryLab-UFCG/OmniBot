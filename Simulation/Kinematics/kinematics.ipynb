{
 "cells": [
  {
   "cell_type": "code",
   "execution_count": 5,
   "id": "db413048",
   "metadata": {},
   "outputs": [],
   "source": [
    "import numpy as np\n",
    "import matplotlib.pyplot as plt"
   ]
  },
  {
   "cell_type": "code",
   "execution_count": null,
   "id": "52932bca",
   "metadata": {},
   "outputs": [],
   "source": [
    "# Função para calcular matriz de rotação entre frames\n",
    "def Rz(theta):\n",
    "  \n",
    "    return np.array([[ np.cos(theta), -np.sin(theta), 0 ],\n",
    "                      [ np.sin(theta), np.cos(theta) , 0 ],\n",
    "                      [ 0            , 0             , 1 ]])\n",
    "\n",
    "# # velocidade das rodas\n",
    "# w = np.array([0,0,0])\n",
    "\n",
    "# # Cinemática Direta\n",
    "# Mdir = np.array([[-r/np.sqrt(3), 0, r/np.sqrt(3)], [r/3, (-2*r)/3, r/3], [r/(3*L), r/(3*L), r/(3*L)]])\n",
    "\n",
    "# # Cinemática Inversa\n",
    "# Minv = np.linalg.inv(Rz(q[2]) @ Mdir)"
   ]
  },
  {
   "cell_type": "code",
   "execution_count": 28,
   "id": "36389beb",
   "metadata": {},
   "outputs": [],
   "source": [
    "r = 0.023 # Raio de roda em metros\n",
    "L = 0.114 # Raio do chassi em metros\n",
    "\n",
    "def forward_kinematics(w):\n",
    "    \"\"\"\n",
    "    Calcula as velocidades no referencial do robô a partir das velocidades das rodas.\n",
    "    w: vetor [omega1, omega2, omega3] (rad/s)\n",
    "    \"\"\"\n",
    "    J = np.array([\n",
    "        [-r/np.sqrt(3),     0,         r/np.sqrt(3)],\n",
    "        [r/3,             -2*r/3,        r/3],\n",
    "        [r/(3*L),        r/(3*L),     r/(3*L)]\n",
    "    ])\n",
    "    return J @ w\n",
    "\n",
    "def inverse_kinematics(v_robo):\n",
    "    \"\"\"\n",
    "    Calcula [omega1, omega2, omega3] a partir de [x_dot, y_dot, theta_dot]_R\n",
    "    \"\"\"\n",
    "    M = np.array([\n",
    "        [-np.sqrt(3)/2,   1/2,  L],\n",
    "        [0,             -1,    L],\n",
    "        [np.sqrt(3)/2,   1/2,  L]\n",
    "    ])\n",
    "    return (1 / r) * (M @ v_robo)\n",
    "\n",
    "def transformar_para_mundo(v_robo, theta):\n",
    "    \"\"\"\n",
    "    Transforma as velocidades do referencial do robô para o referencial do mundo.\n",
    "    v_robo: vetor [x_dot_r, y_dot_r, theta_dot_r]\n",
    "    theta: ângulo de orientação do robô no mundo (rad)\n",
    "    \"\"\"\n",
    "    R = np.array([\n",
    "        [np.cos(theta), -np.sin(theta), 0],\n",
    "        [np.sin(theta),  np.cos(theta), 0],\n",
    "        [0, 0, 1]\n",
    "    ])\n",
    "    return R @ v_robo\n",
    "\n",
    "def velocidade_rodas(t):\n",
    "    \"\"\"\n",
    "    Retorna a velocidade de cada roda para o tempo t\n",
    "    t: float de instante de tempo\n",
    "    \"\"\"\n",
    "    rpm_to_rads = (2*np.pi)/60\n",
    "    w_rpm = np.array([50*rpm_to_rads,25*rpm_to_rads,25*rpm_to_rads])\n",
    "    w = (w_rpm)\n",
    "    return w\n",
    "\n",
    "def simular_trajetoria(v_robo_desejada, dt=0.1, tempo_total=10.0):\n",
    "    \"\"\"\n",
    "    Simula o movimento do robô ao longo do tempo.\n",
    "    velocidade_rodas: função que retorna omega1, omega2, omega3 para o tempo t\n",
    "    \"\"\"\n",
    "    simulation_step = int(tempo_total / dt)\n",
    "    pose = np.zeros((simulation_step, 3))  # [x, y, theta]\n",
    "\n",
    "    for i in range(1, simulation_step):\n",
    "        t = i * dt\n",
    "        omega = inverse_kinematics(v_robo_desejada)\n",
    "        v_robo = forward_kinematics(omega)\n",
    "        v_mundo = transformar_para_mundo(v_robo, pose[i-1, 2])\n",
    "\n",
    "        pose[i] = pose[i-1] + v_mundo * dt\n",
    "\n",
    "    return pose"
   ]
  },
  {
   "cell_type": "code",
   "execution_count": 29,
   "id": "59d0ff39",
   "metadata": {},
   "outputs": [
    {
     "data": {
      "image/png": "[encoded data removed]",
      "text/plain": [
       "<Figure size 800x600 with 1 Axes>"
      ]
     },
     "metadata": {},
     "output_type": "display_data"
    }
   ],
   "source": [
    "v_robo_desejada = np.array([0.1,0,0]) # [x_dot, y_dot, theta_dot]\n",
    "trajetoria = simular_trajetoria(v_robo_desejada)\n",
    "\n",
    "plt.figure(figsize=(8,6))\n",
    "plt.plot(trajetoria[:,0], trajetoria[:,1], label=\"Trajetória\")\n",
    "plt.xlabel(\"X (m)\")\n",
    "plt.ylabel(\"Y (m)\")\n",
    "plt.title(\"Simulação da Trajetória do Robô Omnidirecional\")\n",
    "plt.grid(True)\n",
    "plt.axis('equal')\n",
    "plt.legend()\n",
    "plt.show()"
   ]
  }
 ],
 "metadata": {
  "kernelspec": {
   "display_name": ".venv",
   "language": "python",
   "name": "python3"
  },
  "language_info": {
   "codemirror_mode": {
    "name": "ipython",
    "version": 3
   },
   "file_extension": ".py",
   "mimetype": "text/x-python",
   "name": "python",
   "nbconvert_exporter": "python",
   "pygments_lexer": "ipython3",
   "version": "3.12.0"
  }
 },
 "nbformat": 4,
 "nbformat_minor": 5
}
